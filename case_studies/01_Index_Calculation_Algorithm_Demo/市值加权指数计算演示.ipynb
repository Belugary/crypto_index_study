{
 "cells": [
  {
   "cell_type": "markdown",
   "id": "9aa266ab",
   "metadata": {},
   "source": [
    "# 加密货币指数计算演示\n",
    "\n",
    "本演示展示如何构建和计算加密货币市值加权指数的完整流程。"
   ]
  },
  {
   "cell_type": "markdown",
   "id": "30eed37f",
   "metadata": {},
   "source": [
    "## 市值加权指数原理\n",
    "\n",
    "**核心概念**：\n",
    "- **市值** = 当前价格 × 流通供应量\n",
    "- **权重** = 该资产市值 / 所有成分资产市值总和\n",
    "- **指数值** = 基准值 × (当前总市值 / 基准总市值)\n",
    "\n",
    "**基本流程**：选择成分 → 计算权重 → 设定基准 → 计算指数值"
   ]
  },
  {
   "cell_type": "markdown",
   "id": "b68f6450",
   "metadata": {},
   "source": [
    "## 步骤0：环境准备\n",
    "\n",
    "导入必要的函数和设置路径。"
   ]
  },
  {
   "cell_type": "code",
   "execution_count": 1,
   "id": "5db2a90f",
   "metadata": {},
   "outputs": [
    {
     "name": "stderr",
     "output_type": "stream",
     "text": [
      "INFO:src.downloaders.daily_aggregator:数据库支持已启用\n"
     ]
    }
   ],
   "source": [
    "# 步骤0 环境准备（极简）\n",
    "import sys, pathlib\n",
    "root = pathlib.Path().resolve().parents[1]\n",
    "if str(root) not in sys.path:\n",
    "    sys.path.append(str(root))\n",
    "from src.lab.minapi import daily, top, weights, index_value, index_series, show_top\n"
   ]
  },
  {
   "cell_type": "markdown",
   "id": "b98597c1",
   "metadata": {},
   "source": [
    "## 步骤1：获取基准日数据\n",
    "\n",
    "展示基准日期的前N大市值代币，作为指数成分。"
   ]
  },
  {
   "cell_type": "code",
   "execution_count": 2,
   "id": "23c0f57f",
   "metadata": {},
   "outputs": [
    {
     "name": "stdout",
     "output_type": "stream",
     "text": [
      "✅ 项目路径: D:\\Codes\\crypto_index_study\n",
      "🔧 使用数据库: market.db (175.9MB)\n",
      "🎉 环境就绪 (quick_env)\n",
      "\n",
      "📊 前15大市值 (基准日: 2023-12-01)\n"
     ]
    },
    {
     "data": {
      "application/vnd.microsoft.datawrangler.viewer.v0+json": {
       "columns": [
        {
         "name": "index",
         "rawType": "int64",
         "type": "integer"
        },
        {
         "name": "排名",
         "rawType": "int64",
         "type": "integer"
        },
        {
         "name": "代码",
         "rawType": "object",
         "type": "string"
        },
        {
         "name": "币种名称",
         "rawType": "object",
         "type": "string"
        },
        {
         "name": "价格($)",
         "rawType": "object",
         "type": "string"
        },
        {
         "name": "市值(1B$)",
         "rawType": "object",
         "type": "string"
        }
       ],
       "ref": "e115cfa0-796f-4fec-b9a6-1bb5f2ec02ac",
       "rows": [
        [
         "0",
         "1",
         "BTC",
         "Bitcoin",
         "37,711.8184",
         "738"
        ],
        [
         "1",
         "2",
         "ETH",
         "Ethereum",
         "2,051.7567",
         "247"
        ],
        [
         "2",
         "3",
         "BNB",
         "Binance Coin",
         "227.6026",
         "35"
        ],
        [
         "3",
         "4",
         "XRP",
         "Ripple",
         "0.6058",
         "33"
        ],
        [
         "4",
         "5",
         "SOL",
         "Solana",
         "59.1800",
         "25"
        ],
        [
         "5",
         "6",
         "ADA",
         "Cardano",
         "0.3756",
         "13"
        ],
        [
         "6",
         "7",
         "DOGE",
         "Dogecoin",
         "0.0833",
         "12"
        ],
        [
         "7",
         "8",
         "TRX",
         "TRON",
         "0.1034",
         "9"
        ],
        [
         "8",
         "9",
         "TON",
         "Toncoin",
         "2.3916",
         "8"
        ],
        [
         "9",
         "10",
         "LINK",
         "Chainlink",
         "14.3932",
         "8"
        ],
        [
         "10",
         "11",
         "AVAX",
         "Avalanche",
         "21.3825",
         "8"
        ],
        [
         "11",
         "12",
         "DOT",
         "Polkadot",
         "5.4673",
         "7"
        ],
        [
         "12",
         "13",
         "MATIC",
         "Polygon",
         "0.7620",
         "7"
        ],
        [
         "13",
         "14",
         "LTC",
         "Litecoin",
         "69.4218",
         "5"
        ],
        [
         "14",
         "15",
         "SHIB",
         "Shiba Inu",
         "0.0000",
         "5"
        ]
       ],
       "shape": {
        "columns": 5,
        "rows": 15
       }
      },
      "text/html": [
       "<div>\n",
       "<style scoped>\n",
       "    .dataframe tbody tr th:only-of-type {\n",
       "        vertical-align: middle;\n",
       "    }\n",
       "\n",
       "    .dataframe tbody tr th {\n",
       "        vertical-align: top;\n",
       "    }\n",
       "\n",
       "    .dataframe thead th {\n",
       "        text-align: right;\n",
       "    }\n",
       "</style>\n",
       "<table border=\"1\" class=\"dataframe\">\n",
       "  <thead>\n",
       "    <tr style=\"text-align: right;\">\n",
       "      <th></th>\n",
       "      <th>排名</th>\n",
       "      <th>代码</th>\n",
       "      <th>币种名称</th>\n",
       "      <th>价格($)</th>\n",
       "      <th>市值(1B$)</th>\n",
       "    </tr>\n",
       "  </thead>\n",
       "  <tbody>\n",
       "    <tr>\n",
       "      <th>0</th>\n",
       "      <td>1</td>\n",
       "      <td>BTC</td>\n",
       "      <td>Bitcoin</td>\n",
       "      <td>37,711.8184</td>\n",
       "      <td>738</td>\n",
       "    </tr>\n",
       "    <tr>\n",
       "      <th>1</th>\n",
       "      <td>2</td>\n",
       "      <td>ETH</td>\n",
       "      <td>Ethereum</td>\n",
       "      <td>2,051.7567</td>\n",
       "      <td>247</td>\n",
       "    </tr>\n",
       "    <tr>\n",
       "      <th>2</th>\n",
       "      <td>3</td>\n",
       "      <td>BNB</td>\n",
       "      <td>Binance Coin</td>\n",
       "      <td>227.6026</td>\n",
       "      <td>35</td>\n",
       "    </tr>\n",
       "    <tr>\n",
       "      <th>3</th>\n",
       "      <td>4</td>\n",
       "      <td>XRP</td>\n",
       "      <td>Ripple</td>\n",
       "      <td>0.6058</td>\n",
       "      <td>33</td>\n",
       "    </tr>\n",
       "    <tr>\n",
       "      <th>4</th>\n",
       "      <td>5</td>\n",
       "      <td>SOL</td>\n",
       "      <td>Solana</td>\n",
       "      <td>59.1800</td>\n",
       "      <td>25</td>\n",
       "    </tr>\n",
       "    <tr>\n",
       "      <th>5</th>\n",
       "      <td>6</td>\n",
       "      <td>ADA</td>\n",
       "      <td>Cardano</td>\n",
       "      <td>0.3756</td>\n",
       "      <td>13</td>\n",
       "    </tr>\n",
       "    <tr>\n",
       "      <th>6</th>\n",
       "      <td>7</td>\n",
       "      <td>DOGE</td>\n",
       "      <td>Dogecoin</td>\n",
       "      <td>0.0833</td>\n",
       "      <td>12</td>\n",
       "    </tr>\n",
       "    <tr>\n",
       "      <th>7</th>\n",
       "      <td>8</td>\n",
       "      <td>TRX</td>\n",
       "      <td>TRON</td>\n",
       "      <td>0.1034</td>\n",
       "      <td>9</td>\n",
       "    </tr>\n",
       "    <tr>\n",
       "      <th>8</th>\n",
       "      <td>9</td>\n",
       "      <td>TON</td>\n",
       "      <td>Toncoin</td>\n",
       "      <td>2.3916</td>\n",
       "      <td>8</td>\n",
       "    </tr>\n",
       "    <tr>\n",
       "      <th>9</th>\n",
       "      <td>10</td>\n",
       "      <td>LINK</td>\n",
       "      <td>Chainlink</td>\n",
       "      <td>14.3932</td>\n",
       "      <td>8</td>\n",
       "    </tr>\n",
       "    <tr>\n",
       "      <th>10</th>\n",
       "      <td>11</td>\n",
       "      <td>AVAX</td>\n",
       "      <td>Avalanche</td>\n",
       "      <td>21.3825</td>\n",
       "      <td>8</td>\n",
       "    </tr>\n",
       "    <tr>\n",
       "      <th>11</th>\n",
       "      <td>12</td>\n",
       "      <td>DOT</td>\n",
       "      <td>Polkadot</td>\n",
       "      <td>5.4673</td>\n",
       "      <td>7</td>\n",
       "    </tr>\n",
       "    <tr>\n",
       "      <th>12</th>\n",
       "      <td>13</td>\n",
       "      <td>MATIC</td>\n",
       "      <td>Polygon</td>\n",
       "      <td>0.7620</td>\n",
       "      <td>7</td>\n",
       "    </tr>\n",
       "    <tr>\n",
       "      <th>13</th>\n",
       "      <td>14</td>\n",
       "      <td>LTC</td>\n",
       "      <td>Litecoin</td>\n",
       "      <td>69.4218</td>\n",
       "      <td>5</td>\n",
       "    </tr>\n",
       "    <tr>\n",
       "      <th>14</th>\n",
       "      <td>15</td>\n",
       "      <td>SHIB</td>\n",
       "      <td>Shiba Inu</td>\n",
       "      <td>0.0000</td>\n",
       "      <td>5</td>\n",
       "    </tr>\n",
       "  </tbody>\n",
       "</table>\n",
       "</div>"
      ],
      "text/plain": [
       "    排名     代码          币种名称        价格($) 市值(1B$)\n",
       "0    1    BTC       Bitcoin  37,711.8184     738\n",
       "1    2    ETH      Ethereum   2,051.7567     247\n",
       "2    3    BNB  Binance Coin     227.6026      35\n",
       "3    4    XRP        Ripple       0.6058      33\n",
       "4    5    SOL        Solana      59.1800      25\n",
       "5    6    ADA       Cardano       0.3756      13\n",
       "6    7   DOGE      Dogecoin       0.0833      12\n",
       "7    8    TRX          TRON       0.1034       9\n",
       "8    9    TON       Toncoin       2.3916       8\n",
       "9   10   LINK     Chainlink      14.3932       8\n",
       "10  11   AVAX     Avalanche      21.3825       8\n",
       "11  12    DOT      Polkadot       5.4673       7\n",
       "12  13  MATIC       Polygon       0.7620       7\n",
       "13  14    LTC      Litecoin      69.4218       5\n",
       "14  15   SHIB     Shiba Inu       0.0000       5"
      ]
     },
     "metadata": {},
     "output_type": "display_data"
    }
   ],
   "source": [
    "# 步骤1：基准日数据\n",
    "base_date = \"2023-12-01\"\n",
    "coin_num = 15\n",
    "show_top(base_date, n=coin_num, title=f\"前{coin_num}大市值 (基准日: {base_date})\")"
   ]
  },
  {
   "cell_type": "markdown",
   "id": "574f98f6",
   "metadata": {},
   "source": [
    "## 步骤2：计算权重并设定基准\n",
    "\n",
    "计算各成分的权重，设定基准指数值，展示指数构成。"
   ]
  },
  {
   "cell_type": "code",
   "execution_count": 3,
   "id": "22fe1e1e",
   "metadata": {},
   "outputs": [
    {
     "name": "stdout",
     "output_type": "stream",
     "text": [
      "\n",
      "📊 指数构成 (基准 2023-12-01)\n"
     ]
    },
    {
     "data": {
      "application/vnd.microsoft.datawrangler.viewer.v0+json": {
       "columns": [
        {
         "name": "index",
         "rawType": "int64",
         "type": "integer"
        },
        {
         "name": "排名",
         "rawType": "int64",
         "type": "integer"
        },
        {
         "name": "代码",
         "rawType": "object",
         "type": "string"
        },
        {
         "name": "币种名称",
         "rawType": "object",
         "type": "string"
        },
        {
         "name": "价格($)",
         "rawType": "object",
         "type": "string"
        },
        {
         "name": "市值(1B$)",
         "rawType": "object",
         "type": "string"
        },
        {
         "name": "权重(%)",
         "rawType": "object",
         "type": "string"
        }
       ],
       "ref": "113bfb16-de68-49d7-83a7-ee5980adf0f9",
       "rows": [
        [
         "0",
         "1",
         "BTC",
         "Bitcoin",
         "37,711.8184",
         "737.660",
         "63.60"
        ],
        [
         "1",
         "2",
         "ETH",
         "Ethereum",
         "2,051.7567",
         "246.848",
         "21.28"
        ],
        [
         "2",
         "3",
         "BNB",
         "Binance Coin",
         "227.6026",
         "35.008",
         "3.02"
        ],
        [
         "3",
         "4",
         "XRP",
         "Ripple",
         "0.6058",
         "32.670",
         "2.82"
        ],
        [
         "4",
         "5",
         "SOL",
         "Solana",
         "59.1800",
         "25.109",
         "2.17"
        ],
        [
         "5",
         "6",
         "ADA",
         "Cardano",
         "0.3756",
         "13.142",
         "1.13"
        ],
        [
         "6",
         "7",
         "DOGE",
         "Dogecoin",
         "0.0833",
         "11.842",
         "1.02"
        ],
        [
         "7",
         "8",
         "TRX",
         "TRON",
         "0.1034",
         "9.166",
         "0.79"
        ],
        [
         "8",
         "9",
         "TON",
         "Toncoin",
         "2.3916",
         "8.263",
         "0.71"
        ],
        [
         "9",
         "10",
         "LINK",
         "Chainlink",
         "14.3932",
         "8.013",
         "0.69"
        ],
        [
         "10",
         "11",
         "AVAX",
         "Avalanche",
         "21.3825",
         "7.807",
         "0.67"
        ],
        [
         "11",
         "12",
         "DOT",
         "Polkadot",
         "5.4673",
         "7.124",
         "0.61"
        ],
        [
         "12",
         "13",
         "MATIC",
         "Polygon",
         "0.7620",
         "7.076",
         "0.61"
        ],
        [
         "13",
         "14",
         "LTC",
         "Litecoin",
         "69.4218",
         "5.134",
         "0.44"
        ],
        [
         "14",
         "15",
         "SHIB",
         "Shiba Inu",
         "0.0000",
         "4.896",
         "0.42"
        ]
       ],
       "shape": {
        "columns": 6,
        "rows": 15
       }
      },
      "text/html": [
       "<div>\n",
       "<style scoped>\n",
       "    .dataframe tbody tr th:only-of-type {\n",
       "        vertical-align: middle;\n",
       "    }\n",
       "\n",
       "    .dataframe tbody tr th {\n",
       "        vertical-align: top;\n",
       "    }\n",
       "\n",
       "    .dataframe thead th {\n",
       "        text-align: right;\n",
       "    }\n",
       "</style>\n",
       "<table border=\"1\" class=\"dataframe\">\n",
       "  <thead>\n",
       "    <tr style=\"text-align: right;\">\n",
       "      <th></th>\n",
       "      <th>排名</th>\n",
       "      <th>代码</th>\n",
       "      <th>币种名称</th>\n",
       "      <th>价格($)</th>\n",
       "      <th>市值(1B$)</th>\n",
       "      <th>权重(%)</th>\n",
       "    </tr>\n",
       "  </thead>\n",
       "  <tbody>\n",
       "    <tr>\n",
       "      <th>0</th>\n",
       "      <td>1</td>\n",
       "      <td>BTC</td>\n",
       "      <td>Bitcoin</td>\n",
       "      <td>37,711.8184</td>\n",
       "      <td>737.660</td>\n",
       "      <td>63.60</td>\n",
       "    </tr>\n",
       "    <tr>\n",
       "      <th>1</th>\n",
       "      <td>2</td>\n",
       "      <td>ETH</td>\n",
       "      <td>Ethereum</td>\n",
       "      <td>2,051.7567</td>\n",
       "      <td>246.848</td>\n",
       "      <td>21.28</td>\n",
       "    </tr>\n",
       "    <tr>\n",
       "      <th>2</th>\n",
       "      <td>3</td>\n",
       "      <td>BNB</td>\n",
       "      <td>Binance Coin</td>\n",
       "      <td>227.6026</td>\n",
       "      <td>35.008</td>\n",
       "      <td>3.02</td>\n",
       "    </tr>\n",
       "    <tr>\n",
       "      <th>3</th>\n",
       "      <td>4</td>\n",
       "      <td>XRP</td>\n",
       "      <td>Ripple</td>\n",
       "      <td>0.6058</td>\n",
       "      <td>32.670</td>\n",
       "      <td>2.82</td>\n",
       "    </tr>\n",
       "    <tr>\n",
       "      <th>4</th>\n",
       "      <td>5</td>\n",
       "      <td>SOL</td>\n",
       "      <td>Solana</td>\n",
       "      <td>59.1800</td>\n",
       "      <td>25.109</td>\n",
       "      <td>2.17</td>\n",
       "    </tr>\n",
       "    <tr>\n",
       "      <th>5</th>\n",
       "      <td>6</td>\n",
       "      <td>ADA</td>\n",
       "      <td>Cardano</td>\n",
       "      <td>0.3756</td>\n",
       "      <td>13.142</td>\n",
       "      <td>1.13</td>\n",
       "    </tr>\n",
       "    <tr>\n",
       "      <th>6</th>\n",
       "      <td>7</td>\n",
       "      <td>DOGE</td>\n",
       "      <td>Dogecoin</td>\n",
       "      <td>0.0833</td>\n",
       "      <td>11.842</td>\n",
       "      <td>1.02</td>\n",
       "    </tr>\n",
       "    <tr>\n",
       "      <th>7</th>\n",
       "      <td>8</td>\n",
       "      <td>TRX</td>\n",
       "      <td>TRON</td>\n",
       "      <td>0.1034</td>\n",
       "      <td>9.166</td>\n",
       "      <td>0.79</td>\n",
       "    </tr>\n",
       "    <tr>\n",
       "      <th>8</th>\n",
       "      <td>9</td>\n",
       "      <td>TON</td>\n",
       "      <td>Toncoin</td>\n",
       "      <td>2.3916</td>\n",
       "      <td>8.263</td>\n",
       "      <td>0.71</td>\n",
       "    </tr>\n",
       "    <tr>\n",
       "      <th>9</th>\n",
       "      <td>10</td>\n",
       "      <td>LINK</td>\n",
       "      <td>Chainlink</td>\n",
       "      <td>14.3932</td>\n",
       "      <td>8.013</td>\n",
       "      <td>0.69</td>\n",
       "    </tr>\n",
       "    <tr>\n",
       "      <th>10</th>\n",
       "      <td>11</td>\n",
       "      <td>AVAX</td>\n",
       "      <td>Avalanche</td>\n",
       "      <td>21.3825</td>\n",
       "      <td>7.807</td>\n",
       "      <td>0.67</td>\n",
       "    </tr>\n",
       "    <tr>\n",
       "      <th>11</th>\n",
       "      <td>12</td>\n",
       "      <td>DOT</td>\n",
       "      <td>Polkadot</td>\n",
       "      <td>5.4673</td>\n",
       "      <td>7.124</td>\n",
       "      <td>0.61</td>\n",
       "    </tr>\n",
       "    <tr>\n",
       "      <th>12</th>\n",
       "      <td>13</td>\n",
       "      <td>MATIC</td>\n",
       "      <td>Polygon</td>\n",
       "      <td>0.7620</td>\n",
       "      <td>7.076</td>\n",
       "      <td>0.61</td>\n",
       "    </tr>\n",
       "    <tr>\n",
       "      <th>13</th>\n",
       "      <td>14</td>\n",
       "      <td>LTC</td>\n",
       "      <td>Litecoin</td>\n",
       "      <td>69.4218</td>\n",
       "      <td>5.134</td>\n",
       "      <td>0.44</td>\n",
       "    </tr>\n",
       "    <tr>\n",
       "      <th>14</th>\n",
       "      <td>15</td>\n",
       "      <td>SHIB</td>\n",
       "      <td>Shiba Inu</td>\n",
       "      <td>0.0000</td>\n",
       "      <td>4.896</td>\n",
       "      <td>0.42</td>\n",
       "    </tr>\n",
       "  </tbody>\n",
       "</table>\n",
       "</div>"
      ],
      "text/plain": [
       "    排名     代码          币种名称        价格($)  市值(1B$)  权重(%)\n",
       "0    1    BTC       Bitcoin  37,711.8184  737.660  63.60\n",
       "1    2    ETH      Ethereum   2,051.7567  246.848  21.28\n",
       "2    3    BNB  Binance Coin     227.6026   35.008   3.02\n",
       "3    4    XRP        Ripple       0.6058   32.670   2.82\n",
       "4    5    SOL        Solana      59.1800   25.109   2.17\n",
       "5    6    ADA       Cardano       0.3756   13.142   1.13\n",
       "6    7   DOGE      Dogecoin       0.0833   11.842   1.02\n",
       "7    8    TRX          TRON       0.1034    9.166   0.79\n",
       "8    9    TON       Toncoin       2.3916    8.263   0.71\n",
       "9   10   LINK     Chainlink      14.3932    8.013   0.69\n",
       "10  11   AVAX     Avalanche      21.3825    7.807   0.67\n",
       "11  12    DOT      Polkadot       5.4673    7.124   0.61\n",
       "12  13  MATIC       Polygon       0.7620    7.076   0.61\n",
       "13  14    LTC      Litecoin      69.4218    5.134   0.44\n",
       "14  15   SHIB     Shiba Inu       0.0000    4.896   0.42"
      ]
     },
     "metadata": {},
     "output_type": "display_data"
    }
   ],
   "source": [
    "# 步骤2：权重与基准（封装）\n",
    "# 可选：如有修改minapi.py后需重载: import importlib; importlib.reload(__import__('src.lab.minapi'))\n",
    "from src.lab.minapi import prepare_index_base\n",
    "\n",
    "components, index_info, formatted = prepare_index_base(base_date, n=coin_num, base_value=1000.0)\n",
    "base_index_value = index_info['base_value']\n",
    "base_total_market_cap = index_info['base_market_cap']"
   ]
  },
  {
   "cell_type": "markdown",
   "id": "25e97ac1",
   "metadata": {},
   "source": [
    "## 步骤3：计算目标日指数值\n",
    "\n",
    "使用公式 **指数值 = 基准值 × (当前总市值 / 基准总市值)** 计算指定日期的指数值。"
   ]
  },
  {
   "cell_type": "code",
   "execution_count": 4,
   "id": "63411aff",
   "metadata": {},
   "outputs": [
    {
     "name": "stdout",
     "output_type": "stream",
     "text": [
      "🎯 日期: 2024-07-01\n",
      "📊 开始清理数据: 510 行\n",
      "📊 重新计算排名: 1-510\n",
      "✅ 数据清理完成: 510 行，8 列\n",
      "指数 Crypto15 市值加权指数: 基准 1000.00 -> 2024-07-01 1676.46 | 变动 +676.46 (+67.65%)\n",
      "📊 开始清理数据: 510 行\n",
      "📊 重新计算排名: 1-510\n",
      "✅ 数据清理完成: 510 行，8 列\n",
      "指数 Crypto15 市值加权指数: 基准 1000.00 -> 2024-07-01 1676.46 | 变动 +676.46 (+67.65%)\n"
     ]
    }
   ],
   "source": [
    "# 步骤3：目标日指数\n",
    "target_date = \"2024-07-01\"\n",
    "print(f\"🎯 日期: {target_date}\")\n",
    "index_val = index_value(base_date, target_date, n=coin_num, base_value=base_index_value)\n",
    "if index_val != index_val:  # NaN 检查\n",
    "    print(\"⚠️ 无可计算数据\")\n",
    "else:\n",
    "    diff = index_val - base_index_value\n",
    "    pct = diff / base_index_value * 100\n",
    "    print(f\"指数 {index_info['name']}: 基准 {base_index_value:.2f} -> {target_date} {index_val:.2f} | 变动 {diff:+.2f} ({pct:+.2f}%)\")\n",
    "# 可选序列：\n",
    "# series_df = index_series(base_date, [\"2024-01-01\",\"2024-03-01\",\"2024-05-01\",\"2024-07-01\"], n=coin_num, base_value=base_index_value)\n",
    "# from IPython.display import display; display(series_df)"
   ]
  },
  {
   "cell_type": "markdown",
   "id": "4a1fb7f5",
   "metadata": {},
   "source": [
    "## 总结\n",
    "\n",
    "演示完成！通过4个简单步骤构建了加密货币市值加权指数：\n",
    "\n",
    "**流程**：环境准备 → 获取基准数据 → 计算权重基准 → 计算目标指数\n",
    "\n",
    "**核心公式**：\n",
    "```\n",
    "指数值 = 基准值 × (当前总市值 / 基准总市值)\n",
    "```"
   ]
  }
 ],
 "metadata": {
  "kernelspec": {
   "display_name": ".venv",
   "language": "python",
   "name": "python3"
  },
  "language_info": {
   "codemirror_mode": {
    "name": "ipython",
    "version": 3
   },
   "file_extension": ".py",
   "mimetype": "text/x-python",
   "name": "python",
   "nbconvert_exporter": "python",
   "pygments_lexer": "ipython3",
   "version": "3.11.9"
  }
 },
 "nbformat": 4,
 "nbformat_minor": 5
}
