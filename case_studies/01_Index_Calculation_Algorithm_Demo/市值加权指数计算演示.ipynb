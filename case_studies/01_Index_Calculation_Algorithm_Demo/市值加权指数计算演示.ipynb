{
 "cells": [
  {
   "cell_type": "markdown",
   "id": "9aa266ab",
   "metadata": {},
   "source": [
    "# 加密货币指数计算演示\n",
    "\n",
    "本演示将逐步展示如何构建和计算加密货币市值加权指数。\n",
    "\n",
    "> **注意**：运行前请先参考 [`../README.md`](../README.md) 配置环境和导入必要模块。"
   ]
  },
  {
   "cell_type": "markdown",
   "id": "30eed37f",
   "metadata": {},
   "source": [
    "## 市值加权指数算法原理\n",
    "\n",
    "### 什么是市值加权指数？\n",
    "\n",
    "市值加权指数（Market Capitalization Weighted Index）是一种常见的指数编制方法，广泛应用于股票市场和加密货币市场。在这种方法中，每个成分资产在指数中的权重由其市值大小决定。\n",
    "\n",
    "### 核心概念\n",
    "\n",
    "**市值（Market Capitalization）**：指某个资产的总市场价值，计算公式为：\n",
    "- 市值 = 当前价格 × 流通供应量\n",
    "\n",
    "**权重（Weight）**：指某个资产在指数中所占的比例，计算公式为：\n",
    "- 权重 = 该资产市值 / 所有成分资产市值总和\n",
    "\n",
    "### 算法基本流程\n",
    "\n",
    "1. **确定成分资产**：选择要纳入指数的资产（如前10大、前20大等）\n",
    "2. **计算各资产市值**：获取每个资产的当前价格和流通供应量\n",
    "3. **计算权重**：根据市值占比确定每个资产的权重\n",
    "4. **设定基准值**：选择一个基准日期和基准指数值（通常为1000或100）\n",
    "5. **计算指数值**：根据权重和价格变动计算当前指数值\n",
    "\n",
    "### 指数计算公式\n",
    "\n",
    "**基准日指数值**：\n",
    "```\n",
    "指数值 = 基准值（如1000）\n",
    "```\n",
    "\n",
    "**后续日期指数值**：\n",
    "```\n",
    "指数值 = 基准值 × (当前总市值 / 基准日总市值)\n",
    "```\n",
    "\n",
    "其中，总市值是所有成分资产市值的加权平均。\n",
    "\n",
    "### 市值加权的优势\n",
    "\n",
    "1. **客观性**：权重完全基于市场价值，无需主观判断\n",
    "2. **代表性**：大市值资产对指数影响更大，更能反映市场整体状况\n",
    "3. **可投资性**：投资者可以按权重比例构建投资组合\n",
    "4. **广泛认可**：标普500、纳斯达克等主要指数都采用此方法\n",
    "\n",
    "### 市值加权的局限性\n",
    "\n",
    "1. **集中度风险**：大市值资产过度影响指数表现\n",
    "2. **价格偏差**：可能放大泡沫或高估资产的影响\n",
    "3. **波动性**：大市值资产的剧烈波动会显著影响指数\n",
    "\n",
    "### 在加密货币中的应用\n",
    "\n",
    "加密货币市值加权指数通常会：\n",
    "- 排除稳定币（如USDT、USDC）\n",
    "- 排除包装币和衍生品（如WBTC、stETH）\n",
    "- 只包含原生代币\n",
    "- 定期调整成分币种以反映市场变化"
   ]
  },
  {
   "cell_type": "markdown",
   "id": "b68f6450",
   "metadata": {},
   "source": [
    "## 步骤0：必不可少的一步————环境设置\n",
    "\n",
    "在获取数据之前，需要进行如下环境设置。"
   ]
  },
  {
   "cell_type": "code",
   "execution_count": null,
   "id": "5db2a90f",
   "metadata": {},
   "outputs": [],
   "source": [
    "# 环境设置 - 简单实用的方案\n",
    "import sys\n",
    "from pathlib import Path\n",
    "import logging\n",
    "\n",
    "# 设置日志级别为WARNING（会减少大部分INFO输出）\n",
    "logging.getLogger().setLevel(logging.WARNING)\n",
    "\n",
    "# 手动设置项目路径\n",
    "current_dir = Path.cwd()\n",
    "project_root = current_dir.parent.parent  \n",
    "sys.path.insert(0, str(project_root))\n",
    "\n",
    "print(f\"✅ 项目路径设置完成: {project_root}\")\n",
    "\n",
    "# 导入项目模块（可能会有一些INFO日志，但这是正常的）\n",
    "from src.classification.unified_classifier import UnifiedClassifier\n",
    "from src.downloaders.daily_aggregator import DailyDataAggregator\n",
    "\n",
    "# 初始化模块\n",
    "aggregator = DailyDataAggregator()\n",
    "classifier = UnifiedClassifier()\n",
    "\n",
    "print(\"✅ 模块初始化完成\")"
   ]
  },
  {
   "cell_type": "markdown",
   "id": "b98597c1",
   "metadata": {},
   "source": [
    "## 步骤1：获取代币数据\n",
    "\n",
    "现在我们开始获取和处理代币数据。我们会使用项目中的数据聚合器来获取指定日期的市场数据。"
   ]
  },
  {
   "cell_type": "code",
   "execution_count": null,
   "id": "23c0f57f",
   "metadata": {},
   "outputs": [],
   "source": [
    "# 重新导入修复排名的显示工具\n",
    "from importlib import reload\n",
    "import src.utils.display_utils\n",
    "reload(src.utils.display_utils)\n",
    "from src.utils.display_utils import CryptoDataDisplayer\n",
    "\n",
    "# 数据获取\n",
    "date_str = '2024-12-21'  # 使用最新日期\n",
    "coin_num = 30  # 设置要获取的代币数量\n",
    "raw_data = aggregator.get_daily_data(date_str)\n",
    "print(f\"📅 数据日期:\", date_str)\n",
    "print(f\"📊 原始数据: {len(raw_data)} 个代币\")\n",
    "\n",
    "# 数据处理和展示\n",
    "displayer = CryptoDataDisplayer()\n",
    "crypto_data = displayer.clean_data(raw_data)\n",
    "\n",
    "print(f\"\\n🎯 清理后有效数据: {len(crypto_data)} 个代币\")\n",
    "\n",
    "# 显示前10大市值币种，检查排名是否连续\n",
    "displayer.show_table(crypto_data, \n",
    "                    top_n=coin_num,\n",
    "                    title= f\"前{coin_num}大市值币种\")"
   ]
  }
 ],
 "metadata": {
  "kernelspec": {
   "display_name": ".venv",
   "language": "python",
   "name": "python3"
  },
  "language_info": {
   "codemirror_mode": {
    "name": "ipython",
    "version": 3
   },
   "file_extension": ".py",
   "mimetype": "text/x-python",
   "name": "python",
   "nbconvert_exporter": "python",
   "pygments_lexer": "ipython3",
   "version": "3.11.9"
  }
 },
 "nbformat": 4,
 "nbformat_minor": 5
}
